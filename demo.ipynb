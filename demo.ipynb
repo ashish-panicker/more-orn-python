{
 "cells": [
  {
   "cell_type": "markdown",
   "metadata": {},
   "source": [
    "# Regular expression\n",
    "\n",
    "Sequence of characters that define a search pattern"
   ]
  },
  {
   "cell_type": "code",
   "execution_count": 15,
   "metadata": {},
   "outputs": [
    {
     "name": "stdout",
     "output_type": "stream",
     "text": [
      "cat\n"
     ]
    }
   ],
   "source": [
    "import re\n",
    "\n",
    "\"\"\" . -> matches any character other than \\n\"\"\"\n",
    "text = \"cat cop cut\"\n",
    "print(re.search(\"c.t\", text).group()) # cat cut cop"
   ]
  },
  {
   "cell_type": "code",
   "execution_count": 16,
   "metadata": {},
   "outputs": [
    {
     "name": "stdout",
     "output_type": "stream",
     "text": [
      "hello\n",
      "None\n"
     ]
    }
   ],
   "source": [
    "# ^ matches the start of the string\n",
    "text = \"hello world\"\n",
    "pattern  =\"^hello\"\n",
    "print(re.search(pattern, text, re.I).group())\n",
    "text2 = \"world hello\"\n",
    "print(re.search(pattern, text2, re.I))"
   ]
  },
  {
   "cell_type": "code",
   "execution_count": null,
   "metadata": {},
   "outputs": [
    {
     "name": "stdout",
     "output_type": "stream",
     "text": [
      "world\n"
     ]
    }
   ],
   "source": [
    "# $ matches the end of the string\n",
    "text = \"hello world\"\n",
    "pattern = \"world$\"\n",
    "print(re.search(pattern, text, re.I).group())\n",
    "\n",
    "text"
   ]
  },
  {
   "cell_type": "code",
   "execution_count": null,
   "metadata": {},
   "outputs": [
    {
     "name": "stdout",
     "output_type": "stream",
     "text": [
      "['ac', 'abc', 'abbc', 'abbbc']\n"
     ]
    }
   ],
   "source": [
    "# * matches 0 or more\n",
    "text = \"ac abc abbc abbbc\"\n",
    "# b* zero or more occurance of b before c\n",
    "pattern = r\"ab*c\"\n",
    "matches = re.findall(pattern, text)\n",
    "print(matches)"
   ]
  },
  {
   "cell_type": "code",
   "execution_count": 18,
   "metadata": {},
   "outputs": [
    {
     "name": "stdout",
     "output_type": "stream",
     "text": [
      "['abc', 'abbc', 'abbbc']\n"
     ]
    }
   ],
   "source": [
    "# + matches 1 or more\n",
    "text = \"ac abc abbc abbbc\"\n",
    "# b* one or more occurance of b before c\n",
    "pattern = r\"ab+c\"\n",
    "matches = re.findall(pattern, text)\n",
    "print(matches)"
   ]
  },
  {
   "cell_type": "code",
   "execution_count": null,
   "metadata": {},
   "outputs": [
    {
     "name": "stdout",
     "output_type": "stream",
     "text": [
      "['colour', 'color']\n"
     ]
    }
   ],
   "source": [
    "# ? - zero or one occurance\n",
    "text = \"colour color\"\n",
    "pattern = r\"colou?r\" # u? - if u appear 0 or 1 time\n",
    "matches = re.findall(pattern, text)\n",
    "print(matches)"
   ]
  },
  {
   "cell_type": "code",
   "execution_count": 23,
   "metadata": {},
   "outputs": [
    {
     "name": "stdout",
     "output_type": "stream",
     "text": [
      "['abbc', 'abbbc', 'abbbbc']\n"
     ]
    }
   ],
   "source": [
    "# {} - range or exact occurance\n",
    "text = \"abc abbc abbbc abbbbc abbbbbc abbbbbbbbbc\"\n",
    "pattern = r\"ab{2,4}c\" # b{2,4} - b must appear min 2 and max 4 times\n",
    "matches = re.findall(pattern, text)\n",
    "print(matches)"
   ]
  },
  {
   "cell_type": "code",
   "execution_count": null,
   "metadata": {},
   "outputs": [
    {
     "name": "stdout",
     "output_type": "stream",
     "text": [
      "['cot', 'cut']\n"
     ]
    }
   ],
   "source": [
    "# [] -  matches any single character\n",
    "text = \"cat cot cut cop\"\n",
    "pattern = r\"c[ou]t\" # [ou] - either o or u\n",
    "matches = re.findall(pattern, text)\n",
    "print(matches)"
   ]
  },
  {
   "cell_type": "code",
   "execution_count": null,
   "metadata": {},
   "outputs": [
    {
     "name": "stdout",
     "output_type": "stream",
     "text": [
      "['cat', 'cut']\n"
     ]
    }
   ],
   "source": [
    "# [^] - caret inside, matches everything except the given char\n",
    "text = \"cat cut cot\"\n",
    "pattern = r\"c[^o]t\" # [^o] - matches anything other than o\n",
    "matches = re.findall(pattern, text)\n",
    "print(matches)"
   ]
  },
  {
   "cell_type": "code",
   "execution_count": null,
   "metadata": {},
   "outputs": [
    {
     "name": "stdout",
     "output_type": "stream",
     "text": [
      "['1', '0', '1', '1', '0', '2', '1', '0', '3']\n",
      "['101', '102', '103']\n"
     ]
    }
   ],
   "source": [
    "# \\d - matches digits\n",
    "text = \"Room 101, Room 102, Room 103\"\n",
    "pattern = r\"\\d\" # matches one digit\n",
    "matches = re.findall(pattern, text)\n",
    "print(matches)\n",
    "pattern = r\"\\d+\" # matches one or more digits\n",
    "matches = re.findall(pattern, text)\n",
    "print(matches)"
   ]
  },
  {
   "cell_type": "code",
   "execution_count": 28,
   "metadata": {},
   "outputs": [
    {
     "name": "stdout",
     "output_type": "stream",
     "text": [
      "['Room ']\n"
     ]
    }
   ],
   "source": [
    "# \\D - non digits\n",
    "text = \"Room 101\"\n",
    "pattern = r\"\\D+\"\n",
    "matches = re.findall(pattern, text)\n",
    "print(matches)"
   ]
  },
  {
   "cell_type": "code",
   "execution_count": 30,
   "metadata": {},
   "outputs": [
    {
     "name": "stdout",
     "output_type": "stream",
     "text": [
      "['     ']\n"
     ]
    }
   ],
   "source": [
    "# \\s - matches whitespace\n",
    "text = \"Hello     World\"\n",
    "pattern = r\"\\s+\"\n",
    "matches = re.findall(pattern, text)\n",
    "print(matches)"
   ]
  },
  {
   "cell_type": "code",
   "execution_count": 31,
   "metadata": {},
   "outputs": [
    {
     "name": "stdout",
     "output_type": "stream",
     "text": [
      "['Hello', 'World']\n"
     ]
    }
   ],
   "source": [
    "# \\S - matches non whitespace\n",
    "text = \"Hello      World\"\n",
    "pattern = r\"\\S+\"\n",
    "matches = re.findall(pattern, text)\n",
    "print(matches)"
   ]
  },
  {
   "cell_type": "code",
   "execution_count": null,
   "metadata": {},
   "outputs": [
    {
     "name": "stdout",
     "output_type": "stream",
     "text": [
      "['John', 'Doe', '123', 'New', 'Stree', 'House_12']\n"
     ]
    }
   ],
   "source": [
    "# \\w - any word character\n",
    "text = \"John Doe, 123 New Stree, House_12\"\n",
    "pattern = r\"\\w+\"  # letters or numbers or _\n",
    "matches = re.findall(pattern, text)\n",
    "print(matches)"
   ]
  },
  {
   "cell_type": "code",
   "execution_count": null,
   "metadata": {},
   "outputs": [
    {
     "name": "stdout",
     "output_type": "stream",
     "text": [
      "[' ', ', ', ' ', ' ', '.', ', ']\n"
     ]
    }
   ],
   "source": [
    "# \\W - any non word character\n",
    "text = \"John Doe, 123 New Stree, House_12\"\n",
    "pattern = r\"\\W+\"  # anything other than letters or numbers or _\n",
    "matches = re.findall(pattern, text)\n",
    "print(matches)"
   ]
  },
  {
   "cell_type": "code",
   "execution_count": 38,
   "metadata": {},
   "outputs": [
    {
     "name": "stdout",
     "output_type": "stream",
     "text": [
      "[('John', 'Doe'), ('Jane', 'Smith')]\n"
     ]
    }
   ],
   "source": [
    "# () - group capturing\n",
    "text = \"John Doe, Jane Smith\"\n",
    "pattern = r\"(\\w+) (\\w+)\"\n",
    "matches = re.findall(pattern, text)\n",
    "print(matches)"
   ]
  },
  {
   "cell_type": "code",
   "execution_count": null,
   "metadata": {},
   "outputs": [
    {
     "name": "stdout",
     "output_type": "stream",
     "text": [
      "['1234567890']\n"
     ]
    }
   ],
   "source": [
    "text = \"1234567890 12345678901 123456789\"\n",
    "pattern = r\"\\b\\d{10}\\b\" # \\b - word boundary\n",
    "matches = re.findall(pattern, text)\n",
    "print(matches)"
   ]
  },
  {
   "cell_type": "code",
   "execution_count": 43,
   "metadata": {},
   "outputs": [
    {
     "name": "stdout",
     "output_type": "stream",
     "text": [
      "['9876543210', '9123456789']\n"
     ]
    }
   ],
   "source": [
    "text = \"Valid numbers: 9876543210, 9123456789. Invalid: 123456789, 0987654321\"\n",
    "pattern = r\"\\b[6789]\\d{9}\\b\"\n",
    "matches = re.findall(pattern, text)\n",
    "print(matches)"
   ]
  },
  {
   "cell_type": "code",
   "execution_count": null,
   "metadata": {},
   "outputs": [
    {
     "name": "stdout",
     "output_type": "stream",
     "text": [
      "['1234-1234-1234-1234']\n"
     ]
    }
   ],
   "source": [
    "text = \"1234-1234-1234-1234 , 1234 1234 1234 1234\"\n",
    "pattern = r\"\\b\\d{4}-\\d{4}-\\d{4}-\\d{4}\\b\"\n",
    "matches = re.findall(pattern, text)\n",
    "print(matches)"
   ]
  }
 ],
 "metadata": {
  "kernelspec": {
   "display_name": "Python 3",
   "language": "python",
   "name": "python3"
  },
  "language_info": {
   "codemirror_mode": {
    "name": "ipython",
    "version": 3
   },
   "file_extension": ".py",
   "mimetype": "text/x-python",
   "name": "python",
   "nbconvert_exporter": "python",
   "pygments_lexer": "ipython3",
   "version": "3.12.6"
  }
 },
 "nbformat": 4,
 "nbformat_minor": 2
}
